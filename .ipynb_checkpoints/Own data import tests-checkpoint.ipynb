{
 "cells": [
  {
   "cell_type": "code",
   "execution_count": 18,
   "metadata": {},
   "outputs": [],
   "source": [
    "import torch.utils.data\n",
    "import scipy.io as sio\n",
    "import torchvision.transforms as transforms\n",
    "import matplotlib.pyplot as plt\n"
   ]
  },
  {
   "cell_type": "code",
   "execution_count": 2,
   "metadata": {},
   "outputs": [],
   "source": [
    "\n",
    "class TrainData(torch.utils.data.Dataset):\n",
    "    def __init__(self, img, target, transform=None, target_transform=None):\n",
    "        self.img = img.float()\n",
    "        self.target = target.float()\n",
    "        self.transform = transform\n",
    "        self.target_transform = target_transform\n",
    "\n",
    "    def __getitem__(self, index):\n",
    "        img, target = self.img[index], self.target[index]\n",
    "        if self.transform:\n",
    "            img = self.transform(img)\n",
    "        if self.target_transform:\n",
    "            target = self.target_transform(target)\n",
    "\n",
    "        return img, target\n",
    "\n",
    "    def __len__(self):\n",
    "        return len(self.img)\n",
    "\n",
    "\n",
    "class Data:\n",
    "    def __init__(self, dataset, device):\n",
    "        super(Data, self).__init__()\n",
    "\n",
    "        data_path = \"./data/\" + dataset + \"_dataset.mat\"\n",
    "        if dataset == 'samson':\n",
    "            self.P, self.L, self.col = 3, 156, 95\n",
    "        elif dataset == 'jasper':\n",
    "            self.P, self.L, self.col = 4, 198, 100\n",
    "        elif dataset == 'urban':\n",
    "            self.P, self.L, self.col = 4, 162, 306\n",
    "        elif dataset == 'apex':\n",
    "            self.P, self.L, self.col = 4, 258, 110\n",
    "        elif dataset == 'dc':\n",
    "            self.P, self.L, self.col = 6, 191, 290\n",
    "\n",
    "        data = sio.loadmat(data_path)\n",
    "        self.Y = torch.from_numpy(data['Y'].T).to(device)\n",
    "        self.A = torch.from_numpy(data['A'].T).to(device)\n",
    "        self.M = torch.from_numpy(data['M'])\n",
    "        self.M1 = torch.from_numpy(data['M1'])\n",
    "\n",
    "    def get(self, typ):\n",
    "        if typ == \"hs_img\":\n",
    "            return self.Y.float()\n",
    "        elif typ == \"abd_map\":\n",
    "            return self.A.float()\n",
    "        elif typ == \"end_mem\":\n",
    "            return self.M\n",
    "        elif typ == \"init_weight\":\n",
    "            return self.M1\n",
    "\n",
    "    def get_loader(self, batch_size=1):\n",
    "        train_dataset = TrainData(img=self.Y, target=self.A, transform=transforms.Compose([]))\n",
    "        train_loader = torch.utils.data.DataLoader(dataset=train_dataset,\n",
    "                                                   batch_size=batch_size,\n",
    "                                                   shuffle=False)\n",
    "        return train_loader\n",
    "\n"
   ]
  },
  {
   "cell_type": "code",
   "execution_count": 4,
   "metadata": {},
   "outputs": [],
   "source": [
    "data = Data('samson', 'cpu')"
   ]
  },
  {
   "cell_type": "code",
   "execution_count": 11,
   "metadata": {},
   "outputs": [
    {
     "data": {
      "text/plain": [
       "torch.Size([156, 3])"
      ]
     },
     "execution_count": 11,
     "metadata": {},
     "output_type": "execute_result"
    }
   ],
   "source": [
    "data.M1.shape"
   ]
  },
  {
   "cell_type": "code",
   "execution_count": 12,
   "metadata": {},
   "outputs": [
    {
     "data": {
      "text/plain": [
       "3"
      ]
     },
     "execution_count": 12,
     "metadata": {},
     "output_type": "execute_result"
    }
   ],
   "source": [
    "data.P"
   ]
  },
  {
   "cell_type": "code",
   "execution_count": 22,
   "metadata": {},
   "outputs": [
    {
     "data": {
      "text/plain": [
       "torch.Size([9025, 156])"
      ]
     },
     "execution_count": 22,
     "metadata": {},
     "output_type": "execute_result"
    }
   ],
   "source": [
    "hs = data.get(\"hs_img\")\n",
    "hs.shape"
   ]
  },
  {
   "cell_type": "code",
   "execution_count": 15,
   "metadata": {},
   "outputs": [
    {
     "data": {
      "text/plain": [
       "95.0"
      ]
     },
     "execution_count": 15,
     "metadata": {},
     "output_type": "execute_result"
    }
   ],
   "source": [
    "9025 / 95"
   ]
  },
  {
   "cell_type": "code",
   "execution_count": 20,
   "metadata": {},
   "outputs": [
    {
     "data": {
      "text/plain": [
       "[<matplotlib.lines.Line2D at 0x147f94d8e9e0>]"
      ]
     },
     "execution_count": 20,
     "metadata": {},
     "output_type": "execute_result"
    },
    {
     "data": {
      "image/png": "[encoded data removed]",
      "text/plain": [
       "<Figure size 640x480 with 1 Axes>"
      ]
     },
     "metadata": {},
     "output_type": "display_data"
    }
   ],
   "source": [
    "plt.plot(hs[100])"
   ]
  },
  {
   "cell_type": "code",
   "execution_count": 21,
   "metadata": {},
   "outputs": [],
   "source": [
    "import numpy as np"
   ]
  },
  {
   "cell_type": "code",
   "execution_count": 24,
   "metadata": {},
   "outputs": [],
   "source": [
    "hs_im = hs.reshape((95,95,-1))"
   ]
  },
  {
   "cell_type": "code",
   "execution_count": 26,
   "metadata": {},
   "outputs": [
    {
     "data": {
      "text/plain": [
       "<matplotlib.image.AxesImage at 0x147f94c77d00>"
      ]
     },
     "execution_count": 26,
     "metadata": {},
     "output_type": "execute_result"
    },
    {
     "data": {
      "image/png": "[encoded data removed]",
      "text/plain": [
       "<Figure size 640x480 with 1 Axes>"
      ]
     },
     "metadata": {},
     "output_type": "display_data"
    }
   ],
   "source": [
    "plt.imshow(hs_im[:,:,45])"
   ]
  },
  {
   "cell_type": "code",
   "execution_count": 27,
   "metadata": {},
   "outputs": [],
   "source": [
    "import vegesense.functions"
   ]
  },
  {
   "cell_type": "code",
   "execution_count": 31,
   "metadata": {},
   "outputs": [],
   "source": [
    "\n",
    "data = hs_im.reshape(hs_im.shape[0], -1)"
   ]
  },
  {
   "cell_type": "code",
   "execution_count": 32,
   "metadata": {},
   "outputs": [
    {
     "data": {
      "text/plain": [
       "torch.Size([95, 14820])"
      ]
     },
     "execution_count": 32,
     "metadata": {},
     "output_type": "execute_result"
    }
   ],
   "source": [
    "data.shape"
   ]
  },
  {
   "cell_type": "code",
   "execution_count": 33,
   "metadata": {},
   "outputs": [
    {
     "data": {
      "text/plain": [
       "torch.Size([95, 95, 156])"
      ]
     },
     "execution_count": 33,
     "metadata": {},
     "output_type": "execute_result"
    }
   ],
   "source": [
    "hs_im.shape"
   ]
  },
  {
   "cell_type": "code",
   "execution_count": null,
   "metadata": {},
   "outputs": [],
   "source": [
    "\n",
    "def VCA_torch(cube, n_endmembers, wavelength_band=0, flattened=False, epsilon=0):\n",
    "    p = int(n_endmembers)\n",
    "    data = cube.res\n",
    "    data = cube.stack({'xy': ('y', 'x')}).transpose('band', 'xy')\n",
    "    data = np.nan_to_num(data).clip(-10 ** 10, 10 ** 10)\n",
    "    pixels = data.shape[1]\n",
    "    bands = data.shape[0]\n",
    "    CovMat = np.divide(np.matmul(data, data.T), pixels)\n",
    "    [U, S, VT] = la.svds(CovMat, k=p)\n",
    "    X = np.matmul(np.transpose(U), data)\n",
    "    X_mean = np.mean(X, axis=1)\n",
    "    if epsilon > 0:\n",
    "        Y = np.divide(X, np.matmul(np.transpose(X), X_mean) + epsilon)\n",
    "    else:\n",
    "        Y = np.nan_to_num(np.divide(X, np.matmul(np.transpose(X), X_mean))).clip(-10 ** 10, 10 ** 10)\n",
    "    eu = np.zeros((1, p))\n",
    "    eu[0, p - 1] = 1\n",
    "\n",
    "    A = np.zeros((p, p))\n",
    "    A[:, 0] = eu\n",
    "\n",
    "    I = np.eye(p)\n",
    "    idx = np.zeros((p, 1))\n",
    "    em = np.zeros((bands, p))\n",
    "    for ik in range(p):\n",
    "        w = np.random.rand(p, 1)\n",
    "        tmp = np.matmul(I - np.matmul(A, np.linalg.pinv(A)), w)\n",
    "        f = tmp / np.linalg.norm(tmp)\n",
    "        v = np.matmul(np.transpose(f), Y)\n",
    "        k = np.argmax(np.abs(v))\n",
    "        A[:, ik] = Y[:, k]\n",
    "        idx[ik] = k\n",
    "        em[:, ik] = np.matmul(U, X[:, k])\n",
    "\n",
    "\n",
    "    ab_maps = __fva(data, em, p, cube)\n",
    "    return ab_maps, em \n"
   ]
  },
  {
   "cell_type": "code",
   "execution_count": 29,
   "metadata": {},
   "outputs": [
    {
     "ename": "AttributeError",
     "evalue": "'Tensor' object has no attribute 'stack'",
     "output_type": "error",
     "traceback": [
      "\u001b[0;31m---------------------------------------------------------------------------\u001b[0m",
      "\u001b[0;31mAttributeError\u001b[0m                            Traceback (most recent call last)",
      "Cell \u001b[0;32mIn[29], line 1\u001b[0m\n\u001b[0;32m----> 1\u001b[0m \u001b[43mvegesense\u001b[49m\u001b[38;5;241;43m.\u001b[39;49m\u001b[43mfunctions\u001b[49m\u001b[38;5;241;43m.\u001b[39;49m\u001b[43mVCA\u001b[49m\u001b[43m(\u001b[49m\u001b[43mhs_im\u001b[49m\u001b[43m,\u001b[49m\u001b[43m \u001b[49m\u001b[38;5;241;43m3\u001b[39;49m\u001b[43m)\u001b[49m\n",
      "File \u001b[0;32m/wrk-vakka/users/leeviann/vegesense/vegesense/functions.py:93\u001b[0m, in \u001b[0;36mVCA\u001b[0;34m(cube, n_endmembers, epsilon)\u001b[0m\n\u001b[1;32m     91\u001b[0m \u001b[38;5;28;01mdef\u001b[39;00m \u001b[38;5;21mVCA\u001b[39m(cube, n_endmembers, epsilon\u001b[38;5;241m=\u001b[39m\u001b[38;5;241m0.01\u001b[39m):\n\u001b[1;32m     92\u001b[0m     p \u001b[38;5;241m=\u001b[39m \u001b[38;5;28mint\u001b[39m(n_endmembers)\n\u001b[0;32m---> 93\u001b[0m     data \u001b[38;5;241m=\u001b[39m \u001b[43mcube\u001b[49m\u001b[38;5;241;43m.\u001b[39;49m\u001b[43mstack\u001b[49m({\u001b[38;5;124m'\u001b[39m\u001b[38;5;124mxy\u001b[39m\u001b[38;5;124m'\u001b[39m: (\u001b[38;5;124m'\u001b[39m\u001b[38;5;124my\u001b[39m\u001b[38;5;124m'\u001b[39m, \u001b[38;5;124m'\u001b[39m\u001b[38;5;124mx\u001b[39m\u001b[38;5;124m'\u001b[39m)})\u001b[38;5;241m.\u001b[39mtranspose(\u001b[38;5;124m'\u001b[39m\u001b[38;5;124mband\u001b[39m\u001b[38;5;124m'\u001b[39m, \u001b[38;5;124m'\u001b[39m\u001b[38;5;124mxy\u001b[39m\u001b[38;5;124m'\u001b[39m)\n\u001b[1;32m     94\u001b[0m     data \u001b[38;5;241m=\u001b[39m np\u001b[38;5;241m.\u001b[39mnan_to_num(data)\u001b[38;5;241m.\u001b[39mclip(\u001b[38;5;241m-\u001b[39m\u001b[38;5;241m10\u001b[39m \u001b[38;5;241m*\u001b[39m\u001b[38;5;241m*\u001b[39m \u001b[38;5;241m10\u001b[39m, \u001b[38;5;241m10\u001b[39m \u001b[38;5;241m*\u001b[39m\u001b[38;5;241m*\u001b[39m \u001b[38;5;241m10\u001b[39m)\n\u001b[1;32m     95\u001b[0m     pixels \u001b[38;5;241m=\u001b[39m data\u001b[38;5;241m.\u001b[39mshape[\u001b[38;5;241m1\u001b[39m]\n",
      "\u001b[0;31mAttributeError\u001b[0m: 'Tensor' object has no attribute 'stack'"
     ]
    }
   ],
   "source": [
    "n_endmembers = 3\n",
    "cube = hs_im\n",
    "wavelength_band=0\n",
    "flattened=False\n",
    "epsilon=0\n",
    "p = int(n_endmembers)\n",
    "data = cube.reshape(cube.shape[0], -1)\n",
    "data = cube.stack({'xy': ('y', 'x')}).transpose('band', 'xy')\n",
    "data = np.nan_to_num(data).clip(-10 ** 10, 10 ** 10)\n",
    "pixels = data.shape[1]\n",
    "bands = data.shape[0]\n",
    "CovMat = np.divide(np.matmul(data, data.T), pixels)\n",
    "[U, S, VT] = la.svds(CovMat, k=p)\n",
    "X = np.matmul(np.transpose(U), data)\n",
    "X_mean = np.mean(X, axis=1)\n",
    "if epsilon > 0:\n",
    "    Y = np.divide(X, np.matmul(np.transpose(X), X_mean) + epsilon)\n",
    "else:\n",
    "    Y = np.nan_to_num(np.divide(X, np.matmul(np.transpose(X), X_mean))).clip(-10 ** 10, 10 ** 10)\n",
    "eu = np.zeros((1, p))\n",
    "eu[0, p - 1] = 1\n",
    "\n",
    "A = np.zeros((p, p))\n",
    "A[:, 0] = eu\n",
    "\n",
    "I = np.eye(p)\n",
    "idx = np.zeros((p, 1))\n",
    "em = np.zeros((bands, p))\n",
    "for ik in range(p):\n",
    "    w = np.random.rand(p, 1)\n",
    "    tmp = np.matmul(I - np.matmul(A, np.linalg.pinv(A)), w)\n",
    "    f = tmp / np.linalg.norm(tmp)\n",
    "    v = np.matmul(np.transpose(f), Y)\n",
    "    k = np.argmax(np.abs(v))\n",
    "    A[:, ik] = Y[:, k]\n",
    "    idx[ik] = k\n",
    "    em[:, ik] = np.matmul(U, X[:, k])\n",
    "\n",
    "\n",
    "ab_maps = __fva(data, em, p, cube)\n",
    "return ab_maps, em \n"
   ]
  },
  {
   "cell_type": "code",
   "execution_count": null,
   "metadata": {},
   "outputs": [],
   "source": []
  }
 ],
 "metadata": {
  "kernelspec": {
   "display_name": "Python (vegesense)",
   "language": "python",
   "name": "vegesense"
  },
  "language_info": {
   "codemirror_mode": {
    "name": "ipython",
    "version": 3
   },
   "file_extension": ".py",
   "mimetype": "text/x-python",
   "name": "python",
   "nbconvert_exporter": "python",
   "pygments_lexer": "ipython3",
   "version": "3.10.12"
  }
 },
 "nbformat": 4,
 "nbformat_minor": 4
}
